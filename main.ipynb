{
 "cells": [
  {
   "cell_type": "code",
   "execution_count": null,
   "id": "e5f532e0-3405-47e3-8827-3993d5e03980",
   "metadata": {},
   "outputs": [],
   "source": [
    "import matplotlib.pyplot as plt\n",
    "import mdtraj as md\n",
    "import py3Dmol\n",
    "import os"
   ]
  },
  {
   "cell_type": "code",
   "execution_count": null,
   "id": "32e2a993-56d8-4479-ba1e-eb0dcf3ce829",
   "metadata": {},
   "outputs": [],
   "source": [
    "filename = \"43.xyz\".strip(\".xyz\")\n",
    "dirname = filename + \".split\"\n",
    "os.system(\"obabel -i xyz {} -O {}\".format(\n",
    "    filename + \".xyz\",\n",
    "    filename + \".pdb\"\n",
    "))"
   ]
  },
  {
   "cell_type": "code",
   "execution_count": null,
   "id": "90b35cf1-bab5-4551-8815-f999b921cadf",
   "metadata": {},
   "outputs": [],
   "source": [
    "with open(\"43.xyz\") as f:\n",
    "    system = f.read()\n",
    "view = py3Dmol.view(width=400, height=300)\n",
    "view.addModelsAsFrames(system, 'xyz')\n",
    "view.setViewStyle({'style': 'outline', 'color': 'black', 'width': 0.05})\n",
    "view.setStyle({'stick': {'radius': .1}, 'sphere': {'scale': 0.25}})\n",
    "view.show()"
   ]
  },
  {
   "cell_type": "code",
   "execution_count": null,
   "id": "b962f481-d60d-4f48-8d6e-976481f7ecd3",
   "metadata": {},
   "outputs": [],
   "source": [
    "%matplotlib qt\n",
    "traj = md.load_pdb(filename+'.pdb')\n",
    "N = traj.xyz.shape[0]\n",
    "fig, ax = plt.subplots()\n",
    "ax.plot(md.rmsd(traj, traj ,0), '.')\n",
    "ax.set_xlabel(\"Frame\")\n",
    "ax.set_ylabel(\"RMSD\")\n",
    "press = False\n",
    "def onclick(event):\n",
    "    global press\n",
    "    view.setFrame(int(event.xdata))\n",
    "    view.center()\n",
    "    view.update()\n",
    "    press = True\n",
    "def onrelease(event):\n",
    "    global press\n",
    "    press = False\n",
    "def onmotion(event):\n",
    "    global press\n",
    "    if not press:\n",
    "        return\n",
    "    view.setFrame(int(event.xdata))\n",
    "    view.center()\n",
    "    view.update()\n",
    "cid = fig.canvas.mpl_connect('button_press_event', onclick)\n",
    "cid = fig.canvas.mpl_connect('button_release_event', onrelease)\n",
    "cid = fig.canvas.mpl_connect('motion_notify_event', onmotion)\n",
    "plt.show()"
   ]
  }
 ],
 "metadata": {
  "kernelspec": {
   "display_name": "qm",
   "language": "python",
   "name": "qm"
  },
  "language_info": {
   "codemirror_mode": {
    "name": "ipython",
    "version": 3
   },
   "file_extension": ".py",
   "mimetype": "text/x-python",
   "name": "python",
   "nbconvert_exporter": "python",
   "pygments_lexer": "ipython3",
   "version": "3.7.11"
  }
 },
 "nbformat": 4,
 "nbformat_minor": 5
}
